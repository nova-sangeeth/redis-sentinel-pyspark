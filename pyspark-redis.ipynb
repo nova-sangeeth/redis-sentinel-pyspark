{
 "cells": [
  {
   "cell_type": "code",
   "execution_count": null,
   "id": "13be4452-3eff-4a28-9f74-8df766b3703f",
   "metadata": {},
   "outputs": [],
   "source": [
    "import redis\n",
    "import random\n",
    "import string\n",
    "import json\n",
    "from redis.sentinel import Sentinel"
   ]
  },
  {
   "cell_type": "code",
   "execution_count": null,
   "id": "bebe06d7",
   "metadata": {},
   "outputs": [],
   "source": [
    "# sentinel configuration\n",
    "\"\"\"\n",
    "the conf \n",
    "\n",
    "list of tuples containing [(host, port)]\n",
    "\n",
    "\"\"\"\n",
    "REDIS_HOST = \"0.0.0.0\"\n",
    "REDIS_HOST_PORT_1 = \"26379\"\n",
    "REDIS_HOST_PORT_2 = \"26380\"\n",
    "REDIS_HOST_PORT_3 = \"26381\"\n",
    "REDIS_PASSWORD = \"password\"\n",
    "# REDIS_PASSWORD = \"yourpassword\"\n",
    "# REDIS_USERNAME = \"userone\"\n",
    "REDIS_USERNAME = \"default\"\n",
    "\n",
    "kwargs = {}\n",
    "password = kwargs[\"password\"] = REDIS_PASSWORD\n",
    "username = kwargs[\"username\"] = REDIS_USERNAME\n",
    "\n",
    "\n",
    "sentinel = Sentinel(\n",
    "    [\n",
    "        (REDIS_HOST, REDIS_HOST_PORT_1),\n",
    "        (REDIS_HOST, REDIS_HOST_PORT_2),\n",
    "        (REDIS_HOST, REDIS_HOST_PORT_3),\n",
    "    ],\n",
    "    **kwargs,\n",
    "    socket_timeout=0.1,\n",
    ")"
   ]
  },
  {
   "cell_type": "code",
   "execution_count": null,
   "id": "7f5278db",
   "metadata": {},
   "outputs": [],
   "source": [
    "sentinel.discover_slaves(service_name=\"mymaster\")"
   ]
  },
  {
   "cell_type": "code",
   "execution_count": null,
   "id": "b15846c2",
   "metadata": {},
   "outputs": [],
   "source": [
    "host, port = sentinel.discover_master(service_name=\"mymaster\")"
   ]
  },
  {
   "cell_type": "code",
   "execution_count": null,
   "id": "9085804c",
   "metadata": {},
   "outputs": [],
   "source": [
    "master = sentinel.master_for(\n",
    "    service_name=\"mymaster\",\n",
    ")"
   ]
  },
  {
   "cell_type": "code",
   "execution_count": null,
   "id": "441cd5e5",
   "metadata": {},
   "outputs": [],
   "source": [
    "\"\"\"Test data\"\"\"\n",
    "data = {\n",
    "    \"sofa\": [(\"one\", 1, 1), (\"one\", 15, 12), (\"one\", 5, 8), (\"one\", 1, 2)],\n",
    "    \"couch\": [(\"one\", 1, 1), (\"one\", 15, 12), (\"one\", 5, 8), (\"one\", 1, 2)],\n",
    "    \"fridge\": [(\"one\", 1, 2),(\"two\", 1, 2), (\"three\", 1, 2)],\n",
    "    \"car\": [(\"one\", 1, 1), (\"two\", 15, 12), (\"three\", 5, 8), (\"four\", 1, 2)],\n",
    "    \"mops\": [(\"one\", 1, 4)],\n",
    "    \"vacum_cleaners\": [(\"one\", 1, 5)],\n",
    "}"
   ]
  },
  {
   "cell_type": "code",
   "execution_count": null,
   "id": "93ee2e87-a472-4322-8d3c-aef9954d827a",
   "metadata": {},
   "outputs": [],
   "source": [
    "\"\"\"\n",
    "Process the test data into proper list of dictionaries and \n",
    "assigning the keys to the appropriate values.\n",
    "\"\"\"\n",
    "final_results_list = []\n",
    "\n",
    "for key, value in data.items():\n",
    "    dict = {}\n",
    "    for tuple in value:\n",
    "        dict[\"name\"] = key\n",
    "        dict[\"sku\"] = tuple[0]\n",
    "        dict[\"category_id\"] = tuple[1]\n",
    "        dict[\"score\"] = tuple[2]\n",
    "        final_results_list.append(dict)"
   ]
  },
  {
   "cell_type": "code",
   "execution_count": null,
   "id": "69961861-0296-45a7-b66a-26240deb312b",
   "metadata": {},
   "outputs": [],
   "source": [
    "len(final_results_list)"
   ]
  },
  {
   "cell_type": "code",
   "execution_count": null,
   "id": "36f4dd39-ee6b-4ad7-9699-60c8ed60b068",
   "metadata": {},
   "outputs": [],
   "source": [
    "\"\"\"for each dictionary in the list a new key is generated and added to the redis sentinel (master node)\"\"\"\n",
    "for dictionary  in final_results_list:\n",
    "    # create a key for each dictionary\n",
    "    # using the name as the key\n",
    "    key = dictionary['name']\n",
    "\n",
    "    # iterate over the items in the dictionary\n",
    "    # and add them to a hash at the key\n",
    "    for k, v in dictionary.items():\n",
    "        master.hset(key, k, v)"
   ]
  },
  {
   "cell_type": "code",
   "execution_count": null,
   "id": "270569d1-a686-41a2-8b9d-e4f3daf96df2",
   "metadata": {},
   "outputs": [],
   "source": [
    "\"\"\"used to check keys.\"\"\"\n",
    "for key in master.scan_iter(\"*\"):\n",
    "    print(key)\n",
    "\n",
    "\n"
   ]
  },
  {
   "cell_type": "code",
   "execution_count": null,
   "id": "98c2e4b4",
   "metadata": {},
   "outputs": [],
   "source": []
  }
 ],
 "metadata": {
  "kernelspec": {
   "display_name": "Python 3.10.6 64-bit",
   "language": "python",
   "name": "python3"
  },
  "language_info": {
   "name": "python",
   "version": "3.10.6"
  },
  "vscode": {
   "interpreter": {
    "hash": "916dbcbb3f70747c44a77c7bcd40155683ae19c65e1c03b4aa3499c5328201f1"
   }
  }
 },
 "nbformat": 4,
 "nbformat_minor": 5
}
