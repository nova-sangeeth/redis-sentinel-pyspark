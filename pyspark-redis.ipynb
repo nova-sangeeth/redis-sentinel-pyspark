{
 "cells": [
  {
   "cell_type": "code",
   "execution_count": null,
   "id": "13be4452-3eff-4a28-9f74-8df766b3703f",
   "metadata": {},
   "outputs": [],
   "source": [
    "import redis\n",
    "import random\n",
    "import string\n",
    "import json\n",
    "from redis.sentinel import Sentinel"
   ]
  },
  {
   "cell_type": "code",
   "execution_count": null,
   "id": "bebe06d7",
   "metadata": {},
   "outputs": [],
   "source": [
    "# sentinel configuration\n",
    "\"\"\"\n",
    "the conf \n",
    "\n",
    "list of tuples containing [(host, port)]\n",
    "\n",
    "\"\"\"\n",
    "REDIS_HOST = \"0.0.0.0\"\n",
    "REDIS_HOST_PORT_1 = \"26379\"\n",
    "REDIS_HOST_PORT_2 = \"26380\"\n",
    "REDIS_HOST_PORT_3 = \"26381\"\n",
    "REDIS_PASSWORD = \"password\"\n",
    "# REDIS_PASSWORD = \"yourpassword\"\n",
    "# REDIS_USERNAME = \"userone\"\n",
    "REDIS_USERNAME = \"default\"\n",
    "\n",
    "kwargs = {}\n",
    "password = kwargs[\"password\"] = REDIS_PASSWORD\n",
    "username = kwargs[\"username\"] = REDIS_USERNAME\n",
    "\n",
    "\n",
    "sentinel = Sentinel(\n",
    "    [\n",
    "        (REDIS_HOST, REDIS_HOST_PORT_1),\n",
    "        (REDIS_HOST, REDIS_HOST_PORT_2),\n",
    "        (REDIS_HOST, REDIS_HOST_PORT_3),\n",
    "    ],\n",
    "    **kwargs,\n",
    "    socket_timeout=0.1\n",
    ")"
   ]
  },
  {
   "cell_type": "code",
   "execution_count": null,
   "id": "7f5278db",
   "metadata": {},
   "outputs": [],
   "source": [
    "sentinel.discover_slaves(service_name=\"mymaster\")"
   ]
  },
  {
   "cell_type": "code",
   "execution_count": null,
   "id": "b15846c2",
   "metadata": {},
   "outputs": [],
   "source": [
    "\n",
    "host, port = sentinel.discover_master(service_name=\"mymaster\")\n",
    "redis_client = redis.StrictRedis(\n",
    "    host=host, port=port, password=REDIS_PASSWORD\n",
    ")"
   ]
  },
  {
   "cell_type": "code",
   "execution_count": null,
   "id": "9085804c",
   "metadata": {},
   "outputs": [],
   "source": [
    "master = sentinel.master_for(\n",
    "    service_name=\"mymaster\",\n",
    ")\n",
    "\n",
    "slave = sentinel.slave_for(service_name=\"mymaster\")"
   ]
  },
  {
   "cell_type": "code",
   "execution_count": null,
   "id": "441cd5e5",
   "metadata": {},
   "outputs": [],
   "source": [
    "\"Dummy data generator\"\n",
    "\n",
    "def data_generator(limit: int) -> list[dict]:\n",
    "    results = []\n",
    "    for i in range(limit):\n",
    "        dictionary = {\n",
    "            \"id\": i,\n",
    "            \"name\": \"\".join(random.choices(string.ascii_letters, k=15)),\n",
    "            \"number\": random.randint(a=10, b=99),\n",
    "            \"default_value\": \"\".join(random.choices(string.ascii_letters, k=15)),\n",
    "            \"message_type\": \"\".join(random.choices(string.ascii_letters, k=15)),\n",
    "            \"is_extension\": True\n",
    "        }\n",
    "        results.append(dictionary)\n",
    "    return results"
   ]
  },
  {
   "cell_type": "code",
   "execution_count": null,
   "id": "93ee2e87-a472-4322-8d3c-aef9954d827a",
   "metadata": {},
   "outputs": [],
   "source": [
    "data = data_generator(limit=10)\n",
    "processsed_data = json.dumps(data)\n",
    "processsed_data"
   ]
  },
  {
   "cell_type": "code",
   "execution_count": 199,
   "id": "69961861-0296-45a7-b66a-26240deb312b",
   "metadata": {},
   "outputs": [
    {
     "data": {
      "text/plain": [
       "True"
      ]
     },
     "execution_count": 199,
     "metadata": {},
     "output_type": "execute_result"
    }
   ],
   "source": [
    "master.set(name=\"data_list\", value=processsed_data)"
   ]
  },
  {
   "cell_type": "code",
   "execution_count": 200,
   "id": "36f4dd39-ee6b-4ad7-9699-60c8ed60b068",
   "metadata": {},
   "outputs": [
    {
     "data": {
      "text/plain": [
       "b'[{\"id\": 0, \"name\": \"FBrTvGhWGYwToGw\", \"number\": 44, \"default_value\": \"UwazknREKXckENR\", \"message_type\": \"xJTBHanHIaICbkF\", \"is_extension\": true}, {\"id\": 1, \"name\": \"kweQzPBcdrGMkxQ\", \"number\": 34, \"default_value\": \"JOtmMCrUoxxvySV\", \"message_type\": \"JyxgAaZAtiOYSdT\", \"is_extension\": true}, {\"id\": 2, \"name\": \"gORoTwiYJpEmsqg\", \"number\": 93, \"default_value\": \"wAICIHWXusKWsIA\", \"message_type\": \"sHuPmUfXyJIGvcW\", \"is_extension\": true}, {\"id\": 3, \"name\": \"RmleXeZjjeeoGMo\", \"number\": 84, \"default_value\": \"ofzXDPJTVfxZREf\", \"message_type\": \"hfnnnineMJTMJfy\", \"is_extension\": true}, {\"id\": 4, \"name\": \"NkWYcrrXTgyuyqK\", \"number\": 40, \"default_value\": \"HoAUxfbEFiyHeUm\", \"message_type\": \"ZOQNRKYdqFWWkhR\", \"is_extension\": true}, {\"id\": 5, \"name\": \"XgRCanKBmzEXLev\", \"number\": 22, \"default_value\": \"oJbIwMYKgENtDIn\", \"message_type\": \"QPcsHyvxyUbuhSB\", \"is_extension\": true}, {\"id\": 6, \"name\": \"ofEODikNszlJzRD\", \"number\": 35, \"default_value\": \"ybUhAfvCHukVKOl\", \"message_type\": \"laWyHcIsOgvzCIC\", \"is_extension\": true}, {\"id\": 7, \"name\": \"FUTefQXRmrniXfq\", \"number\": 62, \"default_value\": \"iJIBlBIdsaxcIIm\", \"message_type\": \"SttWhqhHOWdXLUW\", \"is_extension\": true}, {\"id\": 8, \"name\": \"QZDXvFyfmJRAeJM\", \"number\": 12, \"default_value\": \"AObdmjKuiHVhdsz\", \"message_type\": \"KARucjpAxqfOyfk\", \"is_extension\": true}, {\"id\": 9, \"name\": \"TdLposEkLzhyECf\", \"number\": 44, \"default_value\": \"ghFlSAyQQnHahUd\", \"message_type\": \"OwEnrjkNLvLJozy\", \"is_extension\": true}]'"
      ]
     },
     "execution_count": 200,
     "metadata": {},
     "output_type": "execute_result"
    }
   ],
   "source": [
    "slave = sentinel.slave_for('mymaster', socket_timeout=0.1)\n",
    "slave.get('data_list')"
   ]
  },
  {
   "cell_type": "code",
   "execution_count": 201,
   "id": "270569d1-a686-41a2-8b9d-e4f3daf96df2",
   "metadata": {},
   "outputs": [
    {
     "data": {
      "text/plain": [
       "68"
      ]
     },
     "execution_count": 201,
     "metadata": {},
     "output_type": "execute_result"
    }
   ],
   "source": [
    "redis_client.keys().__len__()\n"
   ]
  },
  {
   "cell_type": "code",
   "execution_count": null,
   "id": "98c2e4b4",
   "metadata": {},
   "outputs": [],
   "source": []
  }
 ],
 "metadata": {
  "kernelspec": {
   "display_name": "Python 3 (ipykernel)",
   "language": "python",
   "name": "python3"
  },
  "language_info": {
   "codemirror_mode": {
    "name": "ipython",
    "version": 3
   },
   "file_extension": ".py",
   "mimetype": "text/x-python",
   "name": "python",
   "nbconvert_exporter": "python",
   "pygments_lexer": "ipython3",
   "version": "3.10.6"
  }
 },
 "nbformat": 4,
 "nbformat_minor": 5
}
